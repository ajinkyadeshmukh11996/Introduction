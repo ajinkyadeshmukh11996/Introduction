{
 "cells": [
  {
   "cell_type": "code",
   "execution_count": 2,
   "id": "ba7e584e",
   "metadata": {},
   "outputs": [],
   "source": [
    "import pandas as pd\n",
    "import numpy as np"
   ]
  },
  {
   "cell_type": "markdown",
   "id": "9ba7228c",
   "metadata": {},
   "source": [
    "# Q1-A F&B manager wants to determine whether there is any significant difference in the diameter of the cutlet between two units. A randomly selected sample of cutlets was collected from both units and measured? Analyze the data and draw inferences at 5% significance level. Please state the assumptions and tests that you carried out to check validity of the assumptions"
   ]
  },
  {
   "cell_type": "code",
   "execution_count": 12,
   "id": "4f51259a",
   "metadata": {},
   "outputs": [],
   "source": [
    "#Assumptions:\n",
    "#1)Data is more than 30 so we are taking t distribution same as the Normal distribution so s=sigma.\n",
    "#2)Standard deviation of unit A and Unit B is having small difference so we are assuming both standard deviation same and it is their average\n",
    "\n",
    "#We are considering below hypothesis:\n",
    "# Ho(Null hypothesis): u1 (Unit A mean) == u2 (Unit B mean) .....(== equal to sign)\n",
    "# H1(Alternative hypothesis):u1 (Unit A mean) != u2 (Unit B mean).... (!= not equal to sign)\n",
    "\n",
    "# we are testing hypothesis Ho.\n",
    "#Our test statistics (Ts) = (Xn bar (i.e.Unit A sample mean) - Yn bar(i.e.Unit B sample mean))/((2*(Sigma^2)/n)^0.5)\n",
    "# If Ts is within range of -2 to +2 then Ho is True else H1 is true....(for the 5% significance level or for 95% confidence)"
   ]
  },
  {
   "cell_type": "code",
   "execution_count": 4,
   "id": "5c86a489",
   "metadata": {},
   "outputs": [
    {
     "data": {
      "text/html": [
       "<div>\n",
       "<style scoped>\n",
       "    .dataframe tbody tr th:only-of-type {\n",
       "        vertical-align: middle;\n",
       "    }\n",
       "\n",
       "    .dataframe tbody tr th {\n",
       "        vertical-align: top;\n",
       "    }\n",
       "\n",
       "    .dataframe thead th {\n",
       "        text-align: right;\n",
       "    }\n",
       "</style>\n",
       "<table border=\"1\" class=\"dataframe\">\n",
       "  <thead>\n",
       "    <tr style=\"text-align: right;\">\n",
       "      <th></th>\n",
       "      <th>Unit A</th>\n",
       "      <th>Unit B</th>\n",
       "    </tr>\n",
       "  </thead>\n",
       "  <tbody>\n",
       "    <tr>\n",
       "      <th>0</th>\n",
       "      <td>6.8090</td>\n",
       "      <td>6.7703</td>\n",
       "    </tr>\n",
       "    <tr>\n",
       "      <th>1</th>\n",
       "      <td>6.4376</td>\n",
       "      <td>7.5093</td>\n",
       "    </tr>\n",
       "    <tr>\n",
       "      <th>2</th>\n",
       "      <td>6.9157</td>\n",
       "      <td>6.7300</td>\n",
       "    </tr>\n",
       "    <tr>\n",
       "      <th>3</th>\n",
       "      <td>7.3012</td>\n",
       "      <td>6.7878</td>\n",
       "    </tr>\n",
       "    <tr>\n",
       "      <th>4</th>\n",
       "      <td>7.4488</td>\n",
       "      <td>7.1522</td>\n",
       "    </tr>\n",
       "    <tr>\n",
       "      <th>5</th>\n",
       "      <td>7.3871</td>\n",
       "      <td>6.8110</td>\n",
       "    </tr>\n",
       "    <tr>\n",
       "      <th>6</th>\n",
       "      <td>6.8755</td>\n",
       "      <td>7.2212</td>\n",
       "    </tr>\n",
       "    <tr>\n",
       "      <th>7</th>\n",
       "      <td>7.0621</td>\n",
       "      <td>6.6606</td>\n",
       "    </tr>\n",
       "    <tr>\n",
       "      <th>8</th>\n",
       "      <td>6.6840</td>\n",
       "      <td>7.2402</td>\n",
       "    </tr>\n",
       "    <tr>\n",
       "      <th>9</th>\n",
       "      <td>6.8236</td>\n",
       "      <td>7.0503</td>\n",
       "    </tr>\n",
       "    <tr>\n",
       "      <th>10</th>\n",
       "      <td>7.3930</td>\n",
       "      <td>6.8810</td>\n",
       "    </tr>\n",
       "    <tr>\n",
       "      <th>11</th>\n",
       "      <td>7.5169</td>\n",
       "      <td>7.4059</td>\n",
       "    </tr>\n",
       "    <tr>\n",
       "      <th>12</th>\n",
       "      <td>6.9246</td>\n",
       "      <td>6.7652</td>\n",
       "    </tr>\n",
       "    <tr>\n",
       "      <th>13</th>\n",
       "      <td>6.9256</td>\n",
       "      <td>6.0380</td>\n",
       "    </tr>\n",
       "    <tr>\n",
       "      <th>14</th>\n",
       "      <td>6.5797</td>\n",
       "      <td>7.1581</td>\n",
       "    </tr>\n",
       "    <tr>\n",
       "      <th>15</th>\n",
       "      <td>6.8394</td>\n",
       "      <td>7.0240</td>\n",
       "    </tr>\n",
       "    <tr>\n",
       "      <th>16</th>\n",
       "      <td>6.5970</td>\n",
       "      <td>6.6672</td>\n",
       "    </tr>\n",
       "    <tr>\n",
       "      <th>17</th>\n",
       "      <td>7.2705</td>\n",
       "      <td>7.4314</td>\n",
       "    </tr>\n",
       "    <tr>\n",
       "      <th>18</th>\n",
       "      <td>7.2828</td>\n",
       "      <td>7.3070</td>\n",
       "    </tr>\n",
       "    <tr>\n",
       "      <th>19</th>\n",
       "      <td>7.3495</td>\n",
       "      <td>6.7478</td>\n",
       "    </tr>\n",
       "    <tr>\n",
       "      <th>20</th>\n",
       "      <td>6.9438</td>\n",
       "      <td>6.8889</td>\n",
       "    </tr>\n",
       "    <tr>\n",
       "      <th>21</th>\n",
       "      <td>7.1560</td>\n",
       "      <td>7.4220</td>\n",
       "    </tr>\n",
       "    <tr>\n",
       "      <th>22</th>\n",
       "      <td>6.5341</td>\n",
       "      <td>6.5217</td>\n",
       "    </tr>\n",
       "    <tr>\n",
       "      <th>23</th>\n",
       "      <td>7.2854</td>\n",
       "      <td>7.1688</td>\n",
       "    </tr>\n",
       "    <tr>\n",
       "      <th>24</th>\n",
       "      <td>6.9952</td>\n",
       "      <td>6.7594</td>\n",
       "    </tr>\n",
       "    <tr>\n",
       "      <th>25</th>\n",
       "      <td>6.8568</td>\n",
       "      <td>6.9399</td>\n",
       "    </tr>\n",
       "    <tr>\n",
       "      <th>26</th>\n",
       "      <td>7.2163</td>\n",
       "      <td>7.0133</td>\n",
       "    </tr>\n",
       "    <tr>\n",
       "      <th>27</th>\n",
       "      <td>6.6801</td>\n",
       "      <td>6.9182</td>\n",
       "    </tr>\n",
       "    <tr>\n",
       "      <th>28</th>\n",
       "      <td>6.9431</td>\n",
       "      <td>6.3346</td>\n",
       "    </tr>\n",
       "    <tr>\n",
       "      <th>29</th>\n",
       "      <td>7.0852</td>\n",
       "      <td>7.5459</td>\n",
       "    </tr>\n",
       "    <tr>\n",
       "      <th>30</th>\n",
       "      <td>6.7794</td>\n",
       "      <td>7.0992</td>\n",
       "    </tr>\n",
       "    <tr>\n",
       "      <th>31</th>\n",
       "      <td>7.2783</td>\n",
       "      <td>7.1180</td>\n",
       "    </tr>\n",
       "    <tr>\n",
       "      <th>32</th>\n",
       "      <td>7.1561</td>\n",
       "      <td>6.6965</td>\n",
       "    </tr>\n",
       "    <tr>\n",
       "      <th>33</th>\n",
       "      <td>7.3943</td>\n",
       "      <td>6.5780</td>\n",
       "    </tr>\n",
       "    <tr>\n",
       "      <th>34</th>\n",
       "      <td>6.9405</td>\n",
       "      <td>7.3875</td>\n",
       "    </tr>\n",
       "  </tbody>\n",
       "</table>\n",
       "</div>"
      ],
      "text/plain": [
       "    Unit A  Unit B\n",
       "0   6.8090  6.7703\n",
       "1   6.4376  7.5093\n",
       "2   6.9157  6.7300\n",
       "3   7.3012  6.7878\n",
       "4   7.4488  7.1522\n",
       "5   7.3871  6.8110\n",
       "6   6.8755  7.2212\n",
       "7   7.0621  6.6606\n",
       "8   6.6840  7.2402\n",
       "9   6.8236  7.0503\n",
       "10  7.3930  6.8810\n",
       "11  7.5169  7.4059\n",
       "12  6.9246  6.7652\n",
       "13  6.9256  6.0380\n",
       "14  6.5797  7.1581\n",
       "15  6.8394  7.0240\n",
       "16  6.5970  6.6672\n",
       "17  7.2705  7.4314\n",
       "18  7.2828  7.3070\n",
       "19  7.3495  6.7478\n",
       "20  6.9438  6.8889\n",
       "21  7.1560  7.4220\n",
       "22  6.5341  6.5217\n",
       "23  7.2854  7.1688\n",
       "24  6.9952  6.7594\n",
       "25  6.8568  6.9399\n",
       "26  7.2163  7.0133\n",
       "27  6.6801  6.9182\n",
       "28  6.9431  6.3346\n",
       "29  7.0852  7.5459\n",
       "30  6.7794  7.0992\n",
       "31  7.2783  7.1180\n",
       "32  7.1561  6.6965\n",
       "33  7.3943  6.5780\n",
       "34  6.9405  7.3875"
      ]
     },
     "execution_count": 4,
     "metadata": {},
     "output_type": "execute_result"
    }
   ],
   "source": [
    "df_cutlets = pd.read_csv(\"Cutlets.csv\")\n",
    "df_cutlets"
   ]
  },
  {
   "cell_type": "code",
   "execution_count": 32,
   "id": "9bb1d348",
   "metadata": {},
   "outputs": [],
   "source": [
    "Xnbar= df_cutlets[\"Unit A\"].mean()\n",
    "sigma1=df_cutlets[\"Unit A\"].std()\n",
    "Ynbar= df_cutlets[\"Unit B\"].mean()\n",
    "sigma2=df_cutlets[\"Unit B\"].std()\n",
    "sigma = (sigma1+sigma2)/2\n",
    "n=df_cutlets[\"Unit A\"].count()"
   ]
  },
  {
   "cell_type": "code",
   "execution_count": 39,
   "id": "ed4ed20c",
   "metadata": {},
   "outputs": [
    {
     "data": {
      "text/plain": [
       "0.7256018672810148"
      ]
     },
     "execution_count": 39,
     "metadata": {},
     "output_type": "execute_result"
    }
   ],
   "source": [
    "Ts=(Xnbar-Ynbar)/np.sqrt((2*(sigma*sigma))/n)\n",
    "Ts"
   ]
  },
  {
   "cell_type": "code",
   "execution_count": 3,
   "id": "ba85322a",
   "metadata": {},
   "outputs": [],
   "source": [
    "from scipy import stats"
   ]
  },
  {
   "cell_type": "code",
   "execution_count": 48,
   "id": "1bceebb8",
   "metadata": {},
   "outputs": [
    {
     "data": {
      "text/plain": [
       "[-1.959963984540054, 1.959963984540054]"
      ]
     },
     "execution_count": 48,
     "metadata": {},
     "output_type": "execute_result"
    }
   ],
   "source": [
    "int= list(stats.norm.interval(0.95))\n",
    "int"
   ]
  },
  {
   "cell_type": "code",
   "execution_count": 60,
   "id": "1f62a799",
   "metadata": {},
   "outputs": [
    {
     "data": {
      "text/plain": [
       "array([False,  True])"
      ]
     },
     "execution_count": 60,
     "metadata": {},
     "output_type": "execute_result"
    }
   ],
   "source": [
    "Ts<=int"
   ]
  },
  {
   "cell_type": "code",
   "execution_count": 61,
   "id": "72a92cfc",
   "metadata": {},
   "outputs": [],
   "source": [
    "#As Ts in the int(95% confidence or 5% significance range) i.e between -2 to +2 so Ho is True so.\n",
    "#So u1=u2 and so we can say that there is no siginicant difference in the diameter of the cutlet between two units."
   ]
  },
  {
   "cell_type": "markdown",
   "id": "2968172d",
   "metadata": {},
   "source": [
    "# Q-2 A hospital wants to determine whether there is any difference in the average Turn Around Time (TAT) of reports of the laboratories on their preferred list. They collected a random sample and recorded TAT for reports of 4 laboratories. TAT is defined as sample collected to report dispatch.Analyze the data and determine whether there is any difference in average TAT among the different laboratories at 5% significance level."
   ]
  },
  {
   "cell_type": "code",
   "execution_count": 123,
   "id": "af9755e1",
   "metadata": {},
   "outputs": [
    {
     "data": {
      "text/html": [
       "<div>\n",
       "<style scoped>\n",
       "    .dataframe tbody tr th:only-of-type {\n",
       "        vertical-align: middle;\n",
       "    }\n",
       "\n",
       "    .dataframe tbody tr th {\n",
       "        vertical-align: top;\n",
       "    }\n",
       "\n",
       "    .dataframe thead th {\n",
       "        text-align: right;\n",
       "    }\n",
       "</style>\n",
       "<table border=\"1\" class=\"dataframe\">\n",
       "  <thead>\n",
       "    <tr style=\"text-align: right;\">\n",
       "      <th></th>\n",
       "      <th>Laboratory 1</th>\n",
       "      <th>Laboratory 2</th>\n",
       "      <th>Laboratory 3</th>\n",
       "      <th>Laboratory 4</th>\n",
       "    </tr>\n",
       "  </thead>\n",
       "  <tbody>\n",
       "    <tr>\n",
       "      <th>0</th>\n",
       "      <td>185.35</td>\n",
       "      <td>165.53</td>\n",
       "      <td>176.70</td>\n",
       "      <td>166.13</td>\n",
       "    </tr>\n",
       "    <tr>\n",
       "      <th>1</th>\n",
       "      <td>170.49</td>\n",
       "      <td>185.91</td>\n",
       "      <td>198.45</td>\n",
       "      <td>160.79</td>\n",
       "    </tr>\n",
       "    <tr>\n",
       "      <th>2</th>\n",
       "      <td>192.77</td>\n",
       "      <td>194.92</td>\n",
       "      <td>201.23</td>\n",
       "      <td>185.18</td>\n",
       "    </tr>\n",
       "    <tr>\n",
       "      <th>3</th>\n",
       "      <td>177.33</td>\n",
       "      <td>183.00</td>\n",
       "      <td>199.61</td>\n",
       "      <td>176.42</td>\n",
       "    </tr>\n",
       "    <tr>\n",
       "      <th>4</th>\n",
       "      <td>193.41</td>\n",
       "      <td>169.57</td>\n",
       "      <td>204.63</td>\n",
       "      <td>152.60</td>\n",
       "    </tr>\n",
       "    <tr>\n",
       "      <th>...</th>\n",
       "      <td>...</td>\n",
       "      <td>...</td>\n",
       "      <td>...</td>\n",
       "      <td>...</td>\n",
       "    </tr>\n",
       "    <tr>\n",
       "      <th>115</th>\n",
       "      <td>178.49</td>\n",
       "      <td>170.66</td>\n",
       "      <td>193.80</td>\n",
       "      <td>172.68</td>\n",
       "    </tr>\n",
       "    <tr>\n",
       "      <th>116</th>\n",
       "      <td>176.08</td>\n",
       "      <td>183.98</td>\n",
       "      <td>215.25</td>\n",
       "      <td>177.64</td>\n",
       "    </tr>\n",
       "    <tr>\n",
       "      <th>117</th>\n",
       "      <td>202.48</td>\n",
       "      <td>174.54</td>\n",
       "      <td>203.99</td>\n",
       "      <td>170.27</td>\n",
       "    </tr>\n",
       "    <tr>\n",
       "      <th>118</th>\n",
       "      <td>182.40</td>\n",
       "      <td>197.18</td>\n",
       "      <td>194.52</td>\n",
       "      <td>150.87</td>\n",
       "    </tr>\n",
       "    <tr>\n",
       "      <th>119</th>\n",
       "      <td>182.09</td>\n",
       "      <td>215.17</td>\n",
       "      <td>221.49</td>\n",
       "      <td>162.21</td>\n",
       "    </tr>\n",
       "  </tbody>\n",
       "</table>\n",
       "<p>120 rows × 4 columns</p>\n",
       "</div>"
      ],
      "text/plain": [
       "     Laboratory 1  Laboratory 2  Laboratory 3  Laboratory 4\n",
       "0          185.35        165.53        176.70        166.13\n",
       "1          170.49        185.91        198.45        160.79\n",
       "2          192.77        194.92        201.23        185.18\n",
       "3          177.33        183.00        199.61        176.42\n",
       "4          193.41        169.57        204.63        152.60\n",
       "..            ...           ...           ...           ...\n",
       "115        178.49        170.66        193.80        172.68\n",
       "116        176.08        183.98        215.25        177.64\n",
       "117        202.48        174.54        203.99        170.27\n",
       "118        182.40        197.18        194.52        150.87\n",
       "119        182.09        215.17        221.49        162.21\n",
       "\n",
       "[120 rows x 4 columns]"
      ]
     },
     "execution_count": 123,
     "metadata": {},
     "output_type": "execute_result"
    }
   ],
   "source": [
    "df_labtat=pd.read_csv(\"LabTAT.csv\")\n",
    "df_labtat"
   ]
  },
  {
   "cell_type": "code",
   "execution_count": 20,
   "id": "8b915666",
   "metadata": {},
   "outputs": [],
   "source": [
    "#Assumptions:\n",
    "#1)Data is more than 30 so we are taking t distribution same as the Normal distribution so s=sigma.\n",
    "#2)Standard deviation of laboratories 1,2,3 and 4 is having small difference so we are assuming all standard deviation same and it is their average\n",
    "\n",
    "#We are conducting six hypoyhesis as below:\n",
    "# 1.\n",
    "#Ho(Null hypothesis): u1 (Laboratory 1 mean) == u2 (Laboratory 2 mean) .....(== equal to sign)\n",
    "# H1(Alternative hypothesis):u1 (Laboratory 1 mean) != u2 (Laboratory 2 mean).... (!= not equal to sign)\n",
    "\n",
    "# 2.\n",
    "# Ho(Null hypothesis): u1 (Laboratory 1 mean) == u3 (Laboratory 3 mean) .....(== equal to sign)\n",
    "# H1(Alternative hypothesis):u1 (Laboratory 1 mean) != u3 (Laboratory 3 mean).... (!= not equal to sign)\n",
    "\n",
    "# 3.\n",
    "# Ho(Null hypothesis): u1 (Laboratory 1 mean) == u4 (Laboratory 4 mean) .....(== equal to sign)\n",
    "# H1(Alternative hypothesis):u1 (Laboratory 1 mean) != u4 (Laboratory 4 mean).... (!= not equal to sign)\n",
    "\n",
    "# 4.\n",
    "# Ho(Null hypothesis): u2 (Laboratory 2 mean) == u3 (Laboratory 3 mean) .....(== equal to sign)\n",
    "# H1(Alternative hypothesis):u2 (Laboratory 2 mean) != u3 (Laboratory 3 mean).... (!= not equal to sign)\n",
    "\n",
    "# 5.\n",
    "# Ho(Null hypothesis): u2 (Laboratory 2 mean) == u4 (Laboratory 4 mean) .....(== equal to sign)\n",
    "# H1(Alternative hypothesis):u2 (Laboratory 2 mean) != u4 (Laboratory 4 mean).... (!= not equal to sign)\n",
    "\n",
    "# 6.\n",
    "# Ho(Null hypothesis): u3 (Laboratory 3 mean) == u4 (Laboratory 4 mean) .....(== equal to sign)\n",
    "# H1(Alternative hypothesis):u3 (Laboratory 3 mean) != u4 (Laboratory 4 mean).... (!= not equal to sign)\n",
    "\n",
    "# we are testing hypothesis Ho for the six cases:\n",
    "#for 1.\n",
    "#Our test statistics (Ts) = (Xn bar (i.e.laboratory 1 sample mean) - Yn bar(i.e.laboratory 2 sample mean))/((2*(Sigma^2)/n)^0.5)\n",
    "# If Ts is within range of -2 to +2 then Ho is True else H1 is true....(for the 5% significance level or for 95% confidence)\n",
    "#for 2.\n",
    "#Our test statistics (Ts) = (Xn bar (i.e.laboratory 1 sample mean) - Zn bar(i.e.laboratory 3 sample mean))/((2*(Sigma^2)/n)^0.5)\n",
    "# If Ts is within range of -2 to +2 then Ho is True else H1 is true....(for the 5% significance level or for 95% confidence)\n",
    "#for 3.\n",
    "#Our test statistics (Ts) = (Xn bar (i.e.laboratory 1 sample mean) - Wn bar(i.e.laboratory 4 sample mean))/((2*(Sigma^2)/n)^0.5)\n",
    "# If Ts is within range of -2 to +2 then Ho is True else H1 is true....(for the 5% significance level or for 95% confidence)\n",
    "#for 4.\n",
    "#Our test statistics (Ts) = (Yn bar (i.e.laboratory 2 sample mean) - Zn bar(i.e.laboratory 3 sample mean))/((2*(Sigma^2)/n)^0.5)\n",
    "# If Ts is within range of -2 to +2 then Ho is True else H1 is true....(for the 5% significance level or for 95% confidence)\n",
    "#for 5.\n",
    "#Our test statistics (Ts) = (Yn bar (i.e.laboratory 2 sample mean) - Wn bar(i.e.laboratory 4 sample mean))/((2*(Sigma^2)/n)^0.5)\n",
    "# If Ts is within range of -2 to +2 then Ho is True else H1 is true....(for the 5% significance level or for 95% confidence)\n",
    "#for 6.\n",
    "#Our test statistics (Ts) = (Zn bar (i.e.laboratory 3 sample mean) - Wn bar(i.e.laboratory 4 sample mean))/((2*(Sigma^2)/n)^0.5)\n",
    "# If Ts is within range of -2 to +2 then Ho is True else H1 is true....(for the 5% significance level or for 95% confidence)"
   ]
  },
  {
   "cell_type": "code",
   "execution_count": 125,
   "id": "6c324bef",
   "metadata": {},
   "outputs": [],
   "source": [
    "Xnbar= df_labtat[\"Laboratory 1\"].mean()\n",
    "sigma1=df_labtat[\"Laboratory 1\"].std()\n",
    "Ynbar= df_labtat[\"Laboratory 2\"].mean()\n",
    "sigma2=df_labtat[\"Laboratory 2\"].std()\n",
    "Znbar= df_labtat[\"Laboratory 3\"].mean()\n",
    "sigma3=df_labtat[\"Laboratory 3\"].std()\n",
    "Wnbar= df_labtat[\"Laboratory 4\"].mean()\n",
    "sigma4=df_labtat[\"Laboratory 4\"].std()\n",
    "sigma = (sigma1+sigma2+sigma3+sigma4)/4\n",
    "n=df_labtat[\"Laboratory 4\"].count()"
   ]
  },
  {
   "cell_type": "code",
   "execution_count": 126,
   "id": "df43f4f8",
   "metadata": {},
   "outputs": [
    {
     "data": {
      "text/plain": [
       "-0.28069032588110915"
      ]
     },
     "execution_count": 126,
     "metadata": {},
     "output_type": "execute_result"
    }
   ],
   "source": [
    "#Ts for 1.\n",
    "Ts1=(Xnbar-Ynbar)/np.sqrt((2*(sigma*sigma))/n)\n",
    "Ts1"
   ]
  },
  {
   "cell_type": "code",
   "execution_count": 127,
   "id": "2dac2199",
   "metadata": {},
   "outputs": [
    {
     "data": {
      "text/plain": [
       "[-1.959963984540054, 1.959963984540054]"
      ]
     },
     "execution_count": 127,
     "metadata": {},
     "output_type": "execute_result"
    }
   ],
   "source": [
    "int= list(stats.norm.interval(0.95))\n",
    "int"
   ]
  },
  {
   "cell_type": "code",
   "execution_count": 128,
   "id": "107a30d0",
   "metadata": {},
   "outputs": [
    {
     "data": {
      "text/plain": [
       "array([False,  True])"
      ]
     },
     "execution_count": 128,
     "metadata": {},
     "output_type": "execute_result"
    }
   ],
   "source": [
    "Ts<=int"
   ]
  },
  {
   "cell_type": "code",
   "execution_count": 129,
   "id": "8459e061",
   "metadata": {},
   "outputs": [],
   "source": [
    "#As Ts1 in the int(95% confidence or 5% significance range) i.e between -2 to +2 so Ho is True so.\n",
    "#So u1=u2 and so we can say that there is no difference in the average turnaround time(TAT) of reports of laboratory 1 and 2."
   ]
  },
  {
   "cell_type": "code",
   "execution_count": 130,
   "id": "82bc8562",
   "metadata": {},
   "outputs": [
    {
     "data": {
      "text/plain": [
       "-11.174897179704416"
      ]
     },
     "execution_count": 130,
     "metadata": {},
     "output_type": "execute_result"
    }
   ],
   "source": [
    "#Ts for 2.\n",
    "Ts2=(Xnbar-Znbar)/np.sqrt((2*(sigma*sigma))/n)\n",
    "Ts2"
   ]
  },
  {
   "cell_type": "code",
   "execution_count": 131,
   "id": "024fa9ff",
   "metadata": {},
   "outputs": [],
   "source": [
    "#As Ts2 is not in the int(95% confidence or 5% significance range) i.e not between -2 to +2 so Ho is False.\n",
    "#So u1!=u3(not equal to) and so we can say that there is difference in the average turnaround time(TAT) of reports of laboratory 1 and 3."
   ]
  },
  {
   "cell_type": "code",
   "execution_count": 132,
   "id": "f6b58e8c",
   "metadata": {},
   "outputs": [
    {
     "data": {
      "text/plain": [
       "7.611218925899909"
      ]
     },
     "execution_count": 132,
     "metadata": {},
     "output_type": "execute_result"
    }
   ],
   "source": [
    "#Ts for 3.\n",
    "Ts3=(Xnbar-Wnbar)/np.sqrt((2*(sigma*sigma))/n)\n",
    "Ts3"
   ]
  },
  {
   "cell_type": "code",
   "execution_count": 133,
   "id": "69c3dc2d",
   "metadata": {},
   "outputs": [],
   "source": [
    "#As Ts3 is not in the int(95% confidence or 5% significance range) i.e not between -2 to +2 so Ho is False.\n",
    "#So u1!=u4(not equal to) and so we can say that there is difference in the average turnaround time(TAT) of reports of laboratory 1 and 4."
   ]
  },
  {
   "cell_type": "code",
   "execution_count": 134,
   "id": "a85391f0",
   "metadata": {},
   "outputs": [
    {
     "data": {
      "text/plain": [
       "-10.894206853823308"
      ]
     },
     "execution_count": 134,
     "metadata": {},
     "output_type": "execute_result"
    }
   ],
   "source": [
    "#Ts for 4.\n",
    "Ts4=(Ynbar-Znbar)/np.sqrt((2*(sigma*sigma))/n)\n",
    "Ts4"
   ]
  },
  {
   "cell_type": "code",
   "execution_count": 135,
   "id": "1ac687a2",
   "metadata": {},
   "outputs": [],
   "source": [
    "#As Ts4 is not in the int(95% confidence or 5% significance range) i.e not between -2 to +2 so Ho is False.\n",
    "#So u2!=u3(not equal to) and so we can say that there is difference in the average turnaround time(TAT) of reports of laboratory 2 and 3."
   ]
  },
  {
   "cell_type": "code",
   "execution_count": 136,
   "id": "255818f9",
   "metadata": {},
   "outputs": [
    {
     "data": {
      "text/plain": [
       "7.891909251781018"
      ]
     },
     "execution_count": 136,
     "metadata": {},
     "output_type": "execute_result"
    }
   ],
   "source": [
    "#Ts for 5.\n",
    "Ts5=(Ynbar-Wnbar)/np.sqrt((2*(sigma*sigma))/n)\n",
    "Ts5"
   ]
  },
  {
   "cell_type": "code",
   "execution_count": 137,
   "id": "6e1335de",
   "metadata": {},
   "outputs": [],
   "source": [
    "#As Ts5 is not in the int(95% confidence or 5% significance range) i.e not between -2 to +2 so Ho is False.\n",
    "#So u2!=u4(not equal to) and so we can say that there is difference in the average turnaround time(TAT) of reports of laboratory 2 and 4."
   ]
  },
  {
   "cell_type": "code",
   "execution_count": 138,
   "id": "3b239332",
   "metadata": {},
   "outputs": [
    {
     "data": {
      "text/plain": [
       "18.786116105604325"
      ]
     },
     "execution_count": 138,
     "metadata": {},
     "output_type": "execute_result"
    }
   ],
   "source": [
    "#Ts for 6.\n",
    "Ts6=(Znbar-Wnbar)/np.sqrt((2*(sigma*sigma))/n)\n",
    "Ts6"
   ]
  },
  {
   "cell_type": "code",
   "execution_count": 139,
   "id": "116792fd",
   "metadata": {},
   "outputs": [],
   "source": [
    "#As Ts6 is not in the int(95% confidence or 5% significance range) i.e not between -2 to +2 so Ho is False.\n",
    "#So u3!=u4(not equal to) and so we can say that there is difference in the average turnaround time(TAT) of reports of laboratory 3 and 4."
   ]
  },
  {
   "cell_type": "code",
   "execution_count": 142,
   "id": "7fff1c2c",
   "metadata": {},
   "outputs": [],
   "source": [
    "# So finally There is no difference in the average Turn Around Time (TAT) of reports of the laboratories 1 and 2 but there is \n",
    "# difference in the average Turn Around Time (TAT) of reports of the laboratories 1 and 3, laboratories 1 and 4, laboratories 2 and 3, laboratories 2 and 4 & between laboratories 3 and 4."
   ]
  },
  {
   "cell_type": "markdown",
   "id": "9763d239",
   "metadata": {},
   "source": [
    "# Q-3 Sales of products in four different regions is tabulated for males and females. Find if male-female buyer rations are similar across regions."
   ]
  },
  {
   "cell_type": "code",
   "execution_count": 24,
   "id": "0ca905df",
   "metadata": {},
   "outputs": [
    {
     "data": {
      "text/html": [
       "<div>\n",
       "<style scoped>\n",
       "    .dataframe tbody tr th:only-of-type {\n",
       "        vertical-align: middle;\n",
       "    }\n",
       "\n",
       "    .dataframe tbody tr th {\n",
       "        vertical-align: top;\n",
       "    }\n",
       "\n",
       "    .dataframe thead th {\n",
       "        text-align: right;\n",
       "    }\n",
       "</style>\n",
       "<table border=\"1\" class=\"dataframe\">\n",
       "  <thead>\n",
       "    <tr style=\"text-align: right;\">\n",
       "      <th></th>\n",
       "      <th>Observed Values</th>\n",
       "      <th>East</th>\n",
       "      <th>West</th>\n",
       "      <th>North</th>\n",
       "      <th>South</th>\n",
       "    </tr>\n",
       "  </thead>\n",
       "  <tbody>\n",
       "    <tr>\n",
       "      <th>0</th>\n",
       "      <td>Males</td>\n",
       "      <td>50</td>\n",
       "      <td>142</td>\n",
       "      <td>131</td>\n",
       "      <td>70</td>\n",
       "    </tr>\n",
       "    <tr>\n",
       "      <th>1</th>\n",
       "      <td>Females</td>\n",
       "      <td>435</td>\n",
       "      <td>1523</td>\n",
       "      <td>1356</td>\n",
       "      <td>750</td>\n",
       "    </tr>\n",
       "  </tbody>\n",
       "</table>\n",
       "</div>"
      ],
      "text/plain": [
       "  Observed Values  East  West  North  South\n",
       "0           Males    50   142    131     70\n",
       "1         Females   435  1523   1356    750"
      ]
     },
     "execution_count": 24,
     "metadata": {},
     "output_type": "execute_result"
    }
   ],
   "source": [
    "df_buyerratio=pd.read_csv(\"BuyerRatio (3).csv\")\n",
    "df_buyerratio"
   ]
  },
  {
   "cell_type": "code",
   "execution_count": 29,
   "id": "1223ee71",
   "metadata": {},
   "outputs": [],
   "source": [
    "#Assumptions:\n",
    "#1)We are assuming variance sigma is equal to 1.\n",
    "#2)Standard deviation is equal to 1 as sigma is 1 and also we are assuming this is following normal distribution\n",
    "\n",
    "#We are conducting six hypoyhesis as below:\n",
    "# 1.\n",
    "#Ho(Null hypothesis): u1 (East male/female ratio) == u2 (West male/female ratio) .....(== equal to sign)\n",
    "# H1(Alternative hypothesis):u1 (East male/female ratio) != u2 (West male/female ratio).... (!= not equal to sign)\n",
    "\n",
    "# 2.\n",
    "#Ho(Null hypothesis): u1 (East male/female ratio) == u3 (North male/female ratio) .....(== equal to sign)\n",
    "# H1(Alternative hypothesis):u1 (East male/female ratio) != u3 (North male/female ratio).... (!= not equal to sign)\n",
    "\n",
    "# 3.\n",
    "#Ho(Null hypothesis): u1 (East male/female ratio) == u4 (South male/female ratio) .....(== equal to sign)\n",
    "# H1(Alternative hypothesis):u1 (East male/female ratio) != u4 (South male/female ratio).... (!= not equal to sign)\n",
    "\n",
    "# 4.\n",
    "#Ho(Null hypothesis): u2 (West male/female ratio) == u3 (North male/female ratio) .....(== equal to sign)\n",
    "# H1(Alternative hypothesis):u2 (West male/female ratio) != u3 (North male/female ratio).... (!= not equal to sign)\n",
    "\n",
    "# 5.\n",
    "#Ho(Null hypothesis): u2 (West male/female ratio) == u4 (South male/female ratio) .....(== equal to sign)\n",
    "# H1(Alternative hypothesis):u2 (West male/female ratio) != u4 (South male/female ratio).... (!= not equal to sign)\n",
    "\n",
    "# 6.\n",
    "#Ho(Null hypothesis): u3 (North male/female ratio) == u4 (South male/female ratio) .....(== equal to sign)\n",
    "# H1(Alternative hypothesis):u3 (North male/female ratio) != u4 (South male/female ratio).... (!= not equal to sign)\n",
    "\n",
    "# we are testing hypothesis Ho for the six cases:\n",
    "#for 1.\n",
    "#Our test statistics (Ts) = (Xn bar (i.e.East male/female sample mean) - Yn bar(i.e West male/female sample mean))/(2*sigma)^0.5"
   ]
  },
  {
   "cell_type": "code",
   "execution_count": 26,
   "id": "38502af7",
   "metadata": {},
   "outputs": [],
   "source": [
    "Xnbar=df_buyerratio[\"East\"][0]/df_buyerratio[\"East\"][1]\n",
    "Ynbar=df_buyerratio[\"West\"][0]/df_buyerratio[\"West\"][1]\n",
    "Znbar=df_buyerratio[\"North\"][0]/df_buyerratio[\"North\"][1]\n",
    "Wnbar=df_buyerratio[\"South\"][0]/df_buyerratio[\"South\"][1]"
   ]
  },
  {
   "cell_type": "code",
   "execution_count": 28,
   "id": "8a64aafb",
   "metadata": {},
   "outputs": [
    {
     "data": {
      "text/plain": [
       "0.01534810380821662"
      ]
     },
     "execution_count": 28,
     "metadata": {},
     "output_type": "execute_result"
    }
   ],
   "source": [
    "#Ts for 1.\n",
    "Ts1=(Xnbar-Ynbar)/(np.sqrt(2))\n",
    "Ts1"
   ]
  },
  {
   "cell_type": "code",
   "execution_count": 37,
   "id": "bd6a42f6",
   "metadata": {},
   "outputs": [
    {
     "data": {
      "text/plain": [
       "0.9877544657041448"
      ]
     },
     "execution_count": 37,
     "metadata": {},
     "output_type": "execute_result"
    }
   ],
   "source": [
    "#P value for 1.\n",
    "P1=(1-stats.norm.cdf(Ts1))+(stats.norm.cdf(-Ts1))\n",
    "P1"
   ]
  },
  {
   "cell_type": "code",
   "execution_count": 48,
   "id": "1c7ed279",
   "metadata": {},
   "outputs": [
    {
     "data": {
      "text/plain": [
       "0.012245534295855176"
      ]
     },
     "execution_count": 48,
     "metadata": {},
     "output_type": "execute_result"
    }
   ],
   "source": [
    "#aplha for 1. (probability of rejecting null hypothesis)\n",
    "alpha1 =1-P1\n",
    "alpha1"
   ]
  },
  {
   "cell_type": "code",
   "execution_count": 42,
   "id": "26c6ebad",
   "metadata": {},
   "outputs": [
    {
     "data": {
      "text/plain": [
       "False"
      ]
     },
     "execution_count": 42,
     "metadata": {},
     "output_type": "execute_result"
    }
   ],
   "source": [
    "P1<alpha1"
   ]
  },
  {
   "cell_type": "code",
   "execution_count": 43,
   "id": "c0c62e03",
   "metadata": {},
   "outputs": [],
   "source": [
    "#As P1 is not less than alpha1 so we are accepting Ho. So male/female ratio is similar across East and West region"
   ]
  },
  {
   "cell_type": "code",
   "execution_count": 44,
   "id": "162495e6",
   "metadata": {},
   "outputs": [
    {
     "data": {
      "text/plain": [
       "0.012964703215224815"
      ]
     },
     "execution_count": 44,
     "metadata": {},
     "output_type": "execute_result"
    }
   ],
   "source": [
    "#Ts for 2.\n",
    "Ts2=(Xnbar-Znbar)/(np.sqrt(2))\n",
    "Ts2"
   ]
  },
  {
   "cell_type": "code",
   "execution_count": 45,
   "id": "ff3fa9ff",
   "metadata": {},
   "outputs": [
    {
     "data": {
      "text/plain": [
       "0.989655953247307"
      ]
     },
     "execution_count": 45,
     "metadata": {},
     "output_type": "execute_result"
    }
   ],
   "source": [
    "#P value for 2.\n",
    "P2=(1-stats.norm.cdf(Ts2))+(stats.norm.cdf(-Ts2))\n",
    "P2"
   ]
  },
  {
   "cell_type": "code",
   "execution_count": 47,
   "id": "022c8a4c",
   "metadata": {},
   "outputs": [
    {
     "data": {
      "text/plain": [
       "0.01034404675269296"
      ]
     },
     "execution_count": 47,
     "metadata": {},
     "output_type": "execute_result"
    }
   ],
   "source": [
    "#aplha for 2. (probability of rejecting null hypothesis)\n",
    "alpha2 =1-P2\n",
    "alpha2"
   ]
  },
  {
   "cell_type": "code",
   "execution_count": 54,
   "id": "f34cd121",
   "metadata": {},
   "outputs": [
    {
     "data": {
      "text/plain": [
       "False"
      ]
     },
     "execution_count": 54,
     "metadata": {},
     "output_type": "execute_result"
    }
   ],
   "source": [
    "P2<alpha2"
   ]
  },
  {
   "cell_type": "code",
   "execution_count": 50,
   "id": "f1cf5cc1",
   "metadata": {},
   "outputs": [],
   "source": [
    "#As P2 is not less than alpha2 so we are accepting Ho. So male/female ratio is similar across East and North region"
   ]
  },
  {
   "cell_type": "code",
   "execution_count": 51,
   "id": "78efe54b",
   "metadata": {},
   "outputs": [
    {
     "data": {
      "text/plain": [
       "0.015280008604950678"
      ]
     },
     "execution_count": 51,
     "metadata": {},
     "output_type": "execute_result"
    }
   ],
   "source": [
    "#Ts for 3.\n",
    "Ts3=(Xnbar-Wnbar)/(np.sqrt(2))\n",
    "Ts3"
   ]
  },
  {
   "cell_type": "code",
   "execution_count": 52,
   "id": "8a62d0b5",
   "metadata": {},
   "outputs": [
    {
     "data": {
      "text/plain": [
       "0.9878087914448663"
      ]
     },
     "execution_count": 52,
     "metadata": {},
     "output_type": "execute_result"
    }
   ],
   "source": [
    "#P value for 3.\n",
    "P3=(1-stats.norm.cdf(Ts3))+(stats.norm.cdf(-Ts3))\n",
    "P3"
   ]
  },
  {
   "cell_type": "code",
   "execution_count": 56,
   "id": "a2f1baec",
   "metadata": {},
   "outputs": [
    {
     "data": {
      "text/plain": [
       "0.01219120855513367"
      ]
     },
     "execution_count": 56,
     "metadata": {},
     "output_type": "execute_result"
    }
   ],
   "source": [
    "#aplha for 3. (probability of rejecting null hypothesis)\n",
    "alpha3 =1-P3\n",
    "alpha3"
   ]
  },
  {
   "cell_type": "code",
   "execution_count": 57,
   "id": "4de8d4f0",
   "metadata": {},
   "outputs": [
    {
     "data": {
      "text/plain": [
       "False"
      ]
     },
     "execution_count": 57,
     "metadata": {},
     "output_type": "execute_result"
    }
   ],
   "source": [
    "P3<alpha3"
   ]
  },
  {
   "cell_type": "code",
   "execution_count": 58,
   "id": "e70781dc",
   "metadata": {},
   "outputs": [],
   "source": [
    "#As P3 is not less than alpha3 so we are accepting Ho. So male/female ratio is similar across East and South region"
   ]
  },
  {
   "cell_type": "code",
   "execution_count": 59,
   "id": "2d994ea5",
   "metadata": {},
   "outputs": [
    {
     "data": {
      "text/plain": [
       "-0.002383400592991805"
      ]
     },
     "execution_count": 59,
     "metadata": {},
     "output_type": "execute_result"
    }
   ],
   "source": [
    "#Ts for 4.\n",
    "Ts4=(Ynbar-Znbar)/(np.sqrt(2))\n",
    "Ts4"
   ]
  },
  {
   "cell_type": "code",
   "execution_count": 61,
   "id": "c4bdca33",
   "metadata": {},
   "outputs": [
    {
     "data": {
      "text/plain": [
       "0.9980983232650873"
      ]
     },
     "execution_count": 61,
     "metadata": {},
     "output_type": "execute_result"
    }
   ],
   "source": [
    "#P value for 4.\n",
    "P4=(1-stats.norm.cdf(-Ts4))+(stats.norm.cdf(Ts4))\n",
    "P4"
   ]
  },
  {
   "cell_type": "code",
   "execution_count": 64,
   "id": "fc9f89b5",
   "metadata": {},
   "outputs": [
    {
     "data": {
      "text/plain": [
       "0.001901676734912705"
      ]
     },
     "execution_count": 64,
     "metadata": {},
     "output_type": "execute_result"
    }
   ],
   "source": [
    "#aplha for 4. (probability of rejecting null hypothesis)\n",
    "alpha4 =1-P4\n",
    "alpha4"
   ]
  },
  {
   "cell_type": "code",
   "execution_count": 65,
   "id": "7e0418ce",
   "metadata": {},
   "outputs": [
    {
     "data": {
      "text/plain": [
       "False"
      ]
     },
     "execution_count": 65,
     "metadata": {},
     "output_type": "execute_result"
    }
   ],
   "source": [
    "P4<alpha4"
   ]
  },
  {
   "cell_type": "code",
   "execution_count": 66,
   "id": "df7dbd69",
   "metadata": {},
   "outputs": [],
   "source": [
    "#As P4 is not less than alpha4 so we are accepting Ho. So male/female ratio is similar across West and North region"
   ]
  },
  {
   "cell_type": "code",
   "execution_count": 67,
   "id": "d1b855cc",
   "metadata": {},
   "outputs": [
    {
     "data": {
      "text/plain": [
       "-6.809520326594312e-05"
      ]
     },
     "execution_count": 67,
     "metadata": {},
     "output_type": "execute_result"
    }
   ],
   "source": [
    "#Ts for 5.\n",
    "Ts5=(Ynbar-Wnbar)/(np.sqrt(2))\n",
    "Ts5"
   ]
  },
  {
   "cell_type": "code",
   "execution_count": 74,
   "id": "c7056a74",
   "metadata": {},
   "outputs": [
    {
     "data": {
      "text/plain": [
       "0.9999456678886913"
      ]
     },
     "execution_count": 74,
     "metadata": {},
     "output_type": "execute_result"
    }
   ],
   "source": [
    "#P value for 5.\n",
    "P5=(1-stats.norm.cdf(-Ts5))+(stats.norm.cdf(Ts5))\n",
    "P5"
   ]
  },
  {
   "cell_type": "code",
   "execution_count": 75,
   "id": "17fb9ce0",
   "metadata": {},
   "outputs": [
    {
     "data": {
      "text/plain": [
       "5.433211130867477e-05"
      ]
     },
     "execution_count": 75,
     "metadata": {},
     "output_type": "execute_result"
    }
   ],
   "source": [
    "#aplha for 5. (probability of rejecting null hypothesis)\n",
    "alpha5 =1-P5\n",
    "alpha5"
   ]
  },
  {
   "cell_type": "code",
   "execution_count": 76,
   "id": "10d36ffc",
   "metadata": {},
   "outputs": [
    {
     "data": {
      "text/plain": [
       "False"
      ]
     },
     "execution_count": 76,
     "metadata": {},
     "output_type": "execute_result"
    }
   ],
   "source": [
    "P5<alpha5"
   ]
  },
  {
   "cell_type": "code",
   "execution_count": 71,
   "id": "3b69d435",
   "metadata": {},
   "outputs": [],
   "source": [
    "#As P5 is not less than alpha5 so we are accepting Ho. So male/female ratio is similar across West and South region"
   ]
  },
  {
   "cell_type": "code",
   "execution_count": 72,
   "id": "6579ca60",
   "metadata": {},
   "outputs": [
    {
     "data": {
      "text/plain": [
       "0.002315305389725862"
      ]
     },
     "execution_count": 72,
     "metadata": {},
     "output_type": "execute_result"
    }
   ],
   "source": [
    "#Ts for 6.\n",
    "Ts6=(Znbar-Wnbar)/(np.sqrt(2))\n",
    "Ts6"
   ]
  },
  {
   "cell_type": "code",
   "execution_count": 77,
   "id": "e4fdce05",
   "metadata": {},
   "outputs": [
    {
     "data": {
      "text/plain": [
       "0.9981526552264857"
      ]
     },
     "execution_count": 77,
     "metadata": {},
     "output_type": "execute_result"
    }
   ],
   "source": [
    "#P value for 6.\n",
    "P6=(1-stats.norm.cdf(Ts6))+(stats.norm.cdf(-Ts6))\n",
    "P6"
   ]
  },
  {
   "cell_type": "code",
   "execution_count": 78,
   "id": "f9f06ce1",
   "metadata": {},
   "outputs": [
    {
     "data": {
      "text/plain": [
       "0.0018473447735143367"
      ]
     },
     "execution_count": 78,
     "metadata": {},
     "output_type": "execute_result"
    }
   ],
   "source": [
    "#aplha for 6. (probability of rejecting null hypothesis)\n",
    "alpha6 =1-P6\n",
    "alpha6"
   ]
  },
  {
   "cell_type": "code",
   "execution_count": 79,
   "id": "e792f297",
   "metadata": {},
   "outputs": [
    {
     "data": {
      "text/plain": [
       "False"
      ]
     },
     "execution_count": 79,
     "metadata": {},
     "output_type": "execute_result"
    }
   ],
   "source": [
    "P6<alpha6"
   ]
  },
  {
   "cell_type": "code",
   "execution_count": 80,
   "id": "985dc0dc",
   "metadata": {},
   "outputs": [],
   "source": [
    "#As P6 is not less than alpha6 so we are accepting Ho. So male/female ratio is similar across North and South region"
   ]
  },
  {
   "cell_type": "code",
   "execution_count": 81,
   "id": "2f806de5",
   "metadata": {},
   "outputs": [],
   "source": [
    "#So male -female ratios are similar across all the regions"
   ]
  },
  {
   "cell_type": "markdown",
   "id": "b903dd7c",
   "metadata": {},
   "source": [
    "# Q4-TeleCall uses 4 centers around the globe to process customer order forms. They audit a certain %  of the customer order forms. Any error in order form renders it defective and has to be reworked before processing.  The manager wants to check whether the defective %  varies by centre. Please analyze the data at 5% significance level and help the manager draw appropriate inferences\n"
   ]
  },
  {
   "cell_type": "code",
   "execution_count": 100,
   "id": "da18cb3c",
   "metadata": {},
   "outputs": [
    {
     "data": {
      "text/html": [
       "<div>\n",
       "<style scoped>\n",
       "    .dataframe tbody tr th:only-of-type {\n",
       "        vertical-align: middle;\n",
       "    }\n",
       "\n",
       "    .dataframe tbody tr th {\n",
       "        vertical-align: top;\n",
       "    }\n",
       "\n",
       "    .dataframe thead th {\n",
       "        text-align: right;\n",
       "    }\n",
       "</style>\n",
       "<table border=\"1\" class=\"dataframe\">\n",
       "  <thead>\n",
       "    <tr style=\"text-align: right;\">\n",
       "      <th></th>\n",
       "      <th>Phillippines</th>\n",
       "      <th>Indonesia</th>\n",
       "      <th>Malta</th>\n",
       "      <th>India</th>\n",
       "    </tr>\n",
       "  </thead>\n",
       "  <tbody>\n",
       "    <tr>\n",
       "      <th>0</th>\n",
       "      <td>Error Free</td>\n",
       "      <td>Error Free</td>\n",
       "      <td>Defective</td>\n",
       "      <td>Error Free</td>\n",
       "    </tr>\n",
       "    <tr>\n",
       "      <th>1</th>\n",
       "      <td>Error Free</td>\n",
       "      <td>Error Free</td>\n",
       "      <td>Error Free</td>\n",
       "      <td>Defective</td>\n",
       "    </tr>\n",
       "    <tr>\n",
       "      <th>2</th>\n",
       "      <td>Error Free</td>\n",
       "      <td>Defective</td>\n",
       "      <td>Defective</td>\n",
       "      <td>Error Free</td>\n",
       "    </tr>\n",
       "    <tr>\n",
       "      <th>3</th>\n",
       "      <td>Error Free</td>\n",
       "      <td>Error Free</td>\n",
       "      <td>Error Free</td>\n",
       "      <td>Error Free</td>\n",
       "    </tr>\n",
       "    <tr>\n",
       "      <th>4</th>\n",
       "      <td>Error Free</td>\n",
       "      <td>Error Free</td>\n",
       "      <td>Defective</td>\n",
       "      <td>Error Free</td>\n",
       "    </tr>\n",
       "    <tr>\n",
       "      <th>...</th>\n",
       "      <td>...</td>\n",
       "      <td>...</td>\n",
       "      <td>...</td>\n",
       "      <td>...</td>\n",
       "    </tr>\n",
       "    <tr>\n",
       "      <th>295</th>\n",
       "      <td>Error Free</td>\n",
       "      <td>Error Free</td>\n",
       "      <td>Error Free</td>\n",
       "      <td>Error Free</td>\n",
       "    </tr>\n",
       "    <tr>\n",
       "      <th>296</th>\n",
       "      <td>Error Free</td>\n",
       "      <td>Error Free</td>\n",
       "      <td>Error Free</td>\n",
       "      <td>Error Free</td>\n",
       "    </tr>\n",
       "    <tr>\n",
       "      <th>297</th>\n",
       "      <td>Error Free</td>\n",
       "      <td>Error Free</td>\n",
       "      <td>Defective</td>\n",
       "      <td>Error Free</td>\n",
       "    </tr>\n",
       "    <tr>\n",
       "      <th>298</th>\n",
       "      <td>Error Free</td>\n",
       "      <td>Error Free</td>\n",
       "      <td>Error Free</td>\n",
       "      <td>Error Free</td>\n",
       "    </tr>\n",
       "    <tr>\n",
       "      <th>299</th>\n",
       "      <td>Error Free</td>\n",
       "      <td>Defective</td>\n",
       "      <td>Defective</td>\n",
       "      <td>Error Free</td>\n",
       "    </tr>\n",
       "  </tbody>\n",
       "</table>\n",
       "<p>300 rows × 4 columns</p>\n",
       "</div>"
      ],
      "text/plain": [
       "    Phillippines   Indonesia       Malta       India\n",
       "0     Error Free  Error Free   Defective  Error Free\n",
       "1     Error Free  Error Free  Error Free   Defective\n",
       "2     Error Free   Defective   Defective  Error Free\n",
       "3     Error Free  Error Free  Error Free  Error Free\n",
       "4     Error Free  Error Free   Defective  Error Free\n",
       "..           ...         ...         ...         ...\n",
       "295   Error Free  Error Free  Error Free  Error Free\n",
       "296   Error Free  Error Free  Error Free  Error Free\n",
       "297   Error Free  Error Free   Defective  Error Free\n",
       "298   Error Free  Error Free  Error Free  Error Free\n",
       "299   Error Free   Defective   Defective  Error Free\n",
       "\n",
       "[300 rows x 4 columns]"
      ]
     },
     "execution_count": 100,
     "metadata": {},
     "output_type": "execute_result"
    }
   ],
   "source": [
    "df_custorder=pd.read_csv(\"Costomer+OrderForm.csv\")\n",
    "df_custorder"
   ]
  },
  {
   "cell_type": "code",
   "execution_count": 135,
   "id": "e98de684",
   "metadata": {},
   "outputs": [
    {
     "data": {
      "text/plain": [
       "0.09666666666666666"
      ]
     },
     "execution_count": 135,
     "metadata": {},
     "output_type": "execute_result"
    }
   ],
   "source": [
    "df_custorder.Phillippines.value_counts(\"Defective\").Defective"
   ]
  },
  {
   "cell_type": "code",
   "execution_count": 142,
   "id": "a3230e50",
   "metadata": {},
   "outputs": [],
   "source": [
    "#We are counting the Defective order forms and Defective is repeated word so sigma is taken as 1.\n",
    "\n",
    "#We are conducting six hypoyhesis as below:\n",
    "# 1.\n",
    "#Ho(Null hypothesis): u1 (Phillippines Defective %) == u2 (Indonesia Defective %) .....(== equal to sign)\n",
    "# H1(Alternative hypothesis):u1 (Phillippines Defective %) != u2 (Indonesia Defective %).... (!= not equal to sign)\n",
    "# 2.\n",
    "#Ho(Null hypothesis): u1 (Phillippines Defective %) == u3 (Malta Defective %) .....(== equal to sign)\n",
    "# H1(Alternative hypothesis):u1 (Phillippines Defective %) != u3 (Malta Defective %).... (!= not equal to sign)\n",
    "# 3.\n",
    "#Ho(Null hypothesis): u1 (Phillippines Defective %) == u4 (India Defective %) .....(== equal to sign)\n",
    "# H1(Alternative hypothesis):u1 (Phillippines Defective %) != u4 (India Defective %).... (!= not equal to sign)\n",
    "# 4.\n",
    "#Ho(Null hypothesis): u2 (Indonesia Defective %) == u3 (Malta Defective %) .....(== equal to sign)\n",
    "# H1(Alternative hypothesis):u2 (Indonesia Defective %) != u3 (Malta Defective %).... (!= not equal to sign)\n",
    "# 5.\n",
    "#Ho(Null hypothesis): u2 (Indonesia Defective %) == u4 (India Defective %) .....(== equal to sign)\n",
    "# H1(Alternative hypothesis):u2 (Indonesia Defective %) != u4 (India Defective %).... (!= not equal to sign)\n",
    "# 6.\n",
    "#Ho(Null hypothesis): u3 (Malta Defective %) == u4 (India Defective %) .....(== equal to sign)\n",
    "# H1(Alternative hypothesis):u3 (Malta Defective %) != u4 (India Defective %).... (!= not equal to sign)\n",
    "\n",
    "# we are testing hypothesis Ho for the six cases:\n",
    "#for 1.\n",
    "#Our test statistics (Ts) = (Xn bar (i.e.Phillippines Defective) - Yn bar(i.e.Indonesia Defective %))/((2*(sigma))^0.5)\n",
    "# If Ts is within range of -2 to +2 then Ho is True else H1 is true....(for the 5% significance level or for 95% confidence)\n",
    "#for 2.\n",
    "#Our test statistics (Ts) = (Xn bar (i.e.Phillippines Defective) - Zn bar(i.e.Malta Defective %))/((2*(sigma))^0.5)\n",
    "# If Ts is within range of -2 to +2 then Ho is True else H1 is true....(for the 5% significance level or for 95% confidence)\n",
    "#for 3.\n",
    "#Our test statistics (Ts) = (Xn bar (i.e.Phillippines Defective) - Wn bar(i.e.India Defective %))/((2*(sigma))^0.5)\n",
    "# If Ts is within range of -2 to +2 then Ho is True else H1 is true....(for the 5% significance level or for 95% confidence)\n",
    "#for 4.\n",
    "#Our test statistics (Ts) = (Yn bar (i.e.Indonesia Defective) - Zn bar(i.e.Malta Defective %))/((2*(sigma))^0.5)\n",
    "# If Ts is within range of -2 to +2 then Ho is True else H1 is true....(for the 5% significance level or for 95% confidence)\n",
    "#for 5.\n",
    "#Our test statistics (Ts) = (Yn bar (i.e.Indonesia Defective) - Wn bar(i.e.India Defective %))/((2*(sigma))^0.5)\n",
    "# If Ts is within range of -2 to +2 then Ho is True else H1 is true....(for the 5% significance level or for 95% confidence)\n",
    "#for 6.\n",
    "#Our test statistics (Ts) = (Zn bar (i.e.Malta Defective) - Wn bar(i.e.India Defective %))/((2*(sigma))^0.5)\n",
    "# If Ts is within range of -2 to +2 then Ho is True else H1 is true....(for the 5% significance level or for 95% confidence)"
   ]
  },
  {
   "cell_type": "code",
   "execution_count": 137,
   "id": "ea934e7d",
   "metadata": {},
   "outputs": [
    {
     "data": {
      "text/html": [
       "<div>\n",
       "<style scoped>\n",
       "    .dataframe tbody tr th:only-of-type {\n",
       "        vertical-align: middle;\n",
       "    }\n",
       "\n",
       "    .dataframe tbody tr th {\n",
       "        vertical-align: top;\n",
       "    }\n",
       "\n",
       "    .dataframe thead th {\n",
       "        text-align: right;\n",
       "    }\n",
       "</style>\n",
       "<table border=\"1\" class=\"dataframe\">\n",
       "  <thead>\n",
       "    <tr style=\"text-align: right;\">\n",
       "      <th></th>\n",
       "      <th>Phillippines</th>\n",
       "      <th>Indonesia</th>\n",
       "      <th>Malta</th>\n",
       "      <th>India</th>\n",
       "    </tr>\n",
       "  </thead>\n",
       "  <tbody>\n",
       "    <tr>\n",
       "      <th>count</th>\n",
       "      <td>300</td>\n",
       "      <td>300</td>\n",
       "      <td>300</td>\n",
       "      <td>300</td>\n",
       "    </tr>\n",
       "    <tr>\n",
       "      <th>unique</th>\n",
       "      <td>2</td>\n",
       "      <td>2</td>\n",
       "      <td>2</td>\n",
       "      <td>2</td>\n",
       "    </tr>\n",
       "    <tr>\n",
       "      <th>top</th>\n",
       "      <td>Error Free</td>\n",
       "      <td>Error Free</td>\n",
       "      <td>Error Free</td>\n",
       "      <td>Error Free</td>\n",
       "    </tr>\n",
       "    <tr>\n",
       "      <th>freq</th>\n",
       "      <td>271</td>\n",
       "      <td>267</td>\n",
       "      <td>269</td>\n",
       "      <td>280</td>\n",
       "    </tr>\n",
       "  </tbody>\n",
       "</table>\n",
       "</div>"
      ],
      "text/plain": [
       "       Phillippines   Indonesia       Malta       India\n",
       "count           300         300         300         300\n",
       "unique            2           2           2           2\n",
       "top      Error Free  Error Free  Error Free  Error Free\n",
       "freq            271         267         269         280"
      ]
     },
     "execution_count": 137,
     "metadata": {},
     "output_type": "execute_result"
    }
   ],
   "source": [
    "df_custorder.describe()"
   ]
  },
  {
   "cell_type": "code",
   "execution_count": 144,
   "id": "22b74a04",
   "metadata": {},
   "outputs": [],
   "source": [
    "Xnbar=df_custorder.Phillippines.value_counts(\"Defective\").Defective\n",
    "Ynbar=df_custorder.Indonesia.value_counts(\"Defective\").Defective\n",
    "Znbar=df_custorder.Malta.value_counts(\"Defective\").Defective\n",
    "Wnbar=df_custorder.India.value_counts(\"Defective\").Defective"
   ]
  },
  {
   "cell_type": "code",
   "execution_count": 145,
   "id": "34dbe918",
   "metadata": {},
   "outputs": [
    {
     "data": {
      "text/plain": [
       "-0.009428090415820635"
      ]
     },
     "execution_count": 145,
     "metadata": {},
     "output_type": "execute_result"
    }
   ],
   "source": [
    "#Ts for 1.\n",
    "Ts1=(Xnbar-Ynbar)/(np.sqrt(2))\n",
    "Ts1"
   ]
  },
  {
   "cell_type": "code",
   "execution_count": 150,
   "id": "9b1c8cc9",
   "metadata": {},
   "outputs": [
    {
     "data": {
      "text/plain": [
       "(-1.959963984540054, 1.959963984540054)"
      ]
     },
     "execution_count": 150,
     "metadata": {},
     "output_type": "execute_result"
    }
   ],
   "source": [
    "int= stats.norm.interval(0.95)\n",
    "int"
   ]
  },
  {
   "cell_type": "code",
   "execution_count": 151,
   "id": "bc78e787",
   "metadata": {},
   "outputs": [],
   "source": [
    "#As Ts1 in the int(95% confidence or 5% significance range) i.e between -2 to +2 so Ho is True so.\n",
    "#So u1=u2 and so we can say that defective % not varies from Phillipines to Indonesia."
   ]
  },
  {
   "cell_type": "code",
   "execution_count": 152,
   "id": "5d879b99",
   "metadata": {},
   "outputs": [
    {
     "data": {
      "text/plain": [
       "-0.0047140452079103175"
      ]
     },
     "execution_count": 152,
     "metadata": {},
     "output_type": "execute_result"
    }
   ],
   "source": [
    "#Ts for 2.\n",
    "Ts2=(Xnbar-Znbar)/(np.sqrt(2))\n",
    "Ts2"
   ]
  },
  {
   "cell_type": "code",
   "execution_count": 153,
   "id": "a1204bbb",
   "metadata": {},
   "outputs": [],
   "source": [
    "#As Ts2 in the int(95% confidence or 5% significance range) i.e between -2 to +2 so Ho is True so.\n",
    "#So u1=u3 and so we can say that defective % not varies from Phillipines to Malta."
   ]
  },
  {
   "cell_type": "code",
   "execution_count": 154,
   "id": "0930c76d",
   "metadata": {},
   "outputs": [
    {
     "data": {
      "text/plain": [
       "0.021213203435596423"
      ]
     },
     "execution_count": 154,
     "metadata": {},
     "output_type": "execute_result"
    }
   ],
   "source": [
    "#Ts for 3.\n",
    "Ts3=(Xnbar-Wnbar)/(np.sqrt(2))\n",
    "Ts3"
   ]
  },
  {
   "cell_type": "code",
   "execution_count": 155,
   "id": "71fa2b65",
   "metadata": {},
   "outputs": [],
   "source": [
    "#As Ts3 in the int(95% confidence or 5% significance range) i.e between -2 to +2 so Ho is True so.\n",
    "#So u1=u4 and so we can say that defective % not varies from Phillipines to India."
   ]
  },
  {
   "cell_type": "code",
   "execution_count": 156,
   "id": "b62e8b94",
   "metadata": {},
   "outputs": [
    {
     "data": {
      "text/plain": [
       "0.0047140452079103175"
      ]
     },
     "execution_count": 156,
     "metadata": {},
     "output_type": "execute_result"
    }
   ],
   "source": [
    "#Ts for 4.\n",
    "Ts4=(Ynbar-Znbar)/(np.sqrt(2))\n",
    "Ts4"
   ]
  },
  {
   "cell_type": "code",
   "execution_count": 157,
   "id": "c0b0e4c3",
   "metadata": {},
   "outputs": [],
   "source": [
    "#As Ts4 in the int(95% confidence or 5% significance range) i.e between -2 to +2 so Ho is True so.\n",
    "#So u2=u3 and so we can say that defective % not varies from Indonesia to Malta."
   ]
  },
  {
   "cell_type": "code",
   "execution_count": 158,
   "id": "e1f72d43",
   "metadata": {},
   "outputs": [
    {
     "data": {
      "text/plain": [
       "0.03064129385141706"
      ]
     },
     "execution_count": 158,
     "metadata": {},
     "output_type": "execute_result"
    }
   ],
   "source": [
    "#Ts for 5.\n",
    "Ts5=(Ynbar-Wnbar)/(np.sqrt(2))\n",
    "Ts5"
   ]
  },
  {
   "cell_type": "code",
   "execution_count": 159,
   "id": "c99ef58f",
   "metadata": {},
   "outputs": [],
   "source": [
    "#As Ts5 in the int(95% confidence or 5% significance range) i.e between -2 to +2 so Ho is True so.\n",
    "#So u2=u4 and so we can say that defective % not varies from Indonesia to India."
   ]
  },
  {
   "cell_type": "code",
   "execution_count": 160,
   "id": "4ee20446",
   "metadata": {},
   "outputs": [
    {
     "data": {
      "text/plain": [
       "0.02592724864350674"
      ]
     },
     "execution_count": 160,
     "metadata": {},
     "output_type": "execute_result"
    }
   ],
   "source": [
    "#Ts for 6.\n",
    "Ts6=(Znbar-Wnbar)/(np.sqrt(2))\n",
    "Ts6"
   ]
  },
  {
   "cell_type": "code",
   "execution_count": 161,
   "id": "52eab29d",
   "metadata": {},
   "outputs": [],
   "source": [
    "#As Ts6 in the int(95% confidence or 5% significance range) i.e between -2 to +2 so Ho is True so.\n",
    "#So u3=u4 and so we can say that defective % not varies from Malta to India."
   ]
  },
  {
   "cell_type": "code",
   "execution_count": 163,
   "id": "7e40f6aa",
   "metadata": {},
   "outputs": [],
   "source": [
    "#so we can say that defective % not varies from centre to centre. (5% significance range or 95% confidence)"
   ]
  },
  {
   "cell_type": "code",
   "execution_count": null,
   "id": "9c436868",
   "metadata": {},
   "outputs": [],
   "source": []
  }
 ],
 "metadata": {
  "kernelspec": {
   "display_name": "Python 3 (ipykernel)",
   "language": "python",
   "name": "python3"
  },
  "language_info": {
   "codemirror_mode": {
    "name": "ipython",
    "version": 3
   },
   "file_extension": ".py",
   "mimetype": "text/x-python",
   "name": "python",
   "nbconvert_exporter": "python",
   "pygments_lexer": "ipython3",
   "version": "3.9.7"
  }
 },
 "nbformat": 4,
 "nbformat_minor": 5
}
